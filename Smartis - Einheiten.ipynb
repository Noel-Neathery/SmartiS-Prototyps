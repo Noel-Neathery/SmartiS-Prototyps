{
 "cells": [
  {
   "cell_type": "markdown",
   "metadata": {},
   "source": [
    "# Smarte und interaktive Kurzskripte (smartiS)\n",
    "___\n",
    "## 1. Einheiten"
   ]
  },
  {
   "cell_type": "code",
   "execution_count": 1,
   "metadata": {},
   "outputs": [
    {
     "data": {
      "text/html": [
       "<script>$(\"div.input\").hide()</script>"
      ],
      "text/plain": [
       "<IPython.core.display.HTML object>"
      ]
     },
     "metadata": {},
     "output_type": "display_data"
    },
    {
     "data": {
      "application/vnd.jupyter.widget-view+json": {
       "model_id": "41e7dac951ca4b93ae38fa78eaa766c4",
       "version_major": 2,
       "version_minor": 0
      },
      "text/plain": [
       "ToggleButton(value=False, description='Quellcode anzeigen')"
      ]
     },
     "metadata": {},
     "output_type": "display_data"
    }
   ],
   "source": [
    "#____import____\n",
    "\n",
    "import ipywidgets as widgets\n",
    "\n",
    "from ipywidgets import interact\n",
    "from IPython.display import Markdown, clear_output, display, HTML\n",
    "\n",
    "javascript_functions = {False: \"hide()\", True: \"show()\"}\n",
    "button_descriptions  = {False: \"Code anzeigen\", True: \"Code verbergen\"}\n",
    "\n",
    "\n",
    "javascript_funktion = {False: \"hide()\", True: \"show()\"}\n",
    "schaltflaeche  = {False: \"Quellcode anzeigen\", True: \"Quellcode verbergen\"}\n",
    "\n",
    "\n",
    "def quellcode_umschalten(state):\n",
    "\n",
    "    output_string = \"<script>$(\\\"div.input\\\").{}</script>\"\n",
    "    output_args   = (javascript_funktion[state],)\n",
    "    output        = output_string.format(*output_args)\n",
    "    display(HTML(output))\n",
    "\n",
    "\n",
    "def schaltflaeche_aktion(value):\n",
    "\n",
    "    state = value.new\n",
    "    quellcode_umschalten(state)\n",
    "    value.owner.description = schaltflaeche[state]\n",
    "\n",
    "\n",
    "state = False\n",
    "quellcode_umschalten(state)\n",
    "\n",
    "button = widgets.ToggleButton(state, description = schaltflaeche[state])\n",
    "button.observe(schaltflaeche_aktion, \"value\")\n",
    "\n",
    "display(button)"
   ]
  },
  {
   "cell_type": "markdown",
   "metadata": {},
   "source": [
    "### Beispiel: Einheitentransformieren\n",
    "Jede Einheit lässt sich in einer Zusammenstellung aus Teilen der sieben SI Einheiten Kilogramm, Meter, Sekunde, Amper, Candela, Kelvin und Mol umschreiben. So lässt sich beispielsweise $N$ in $\\frac{kg*m}{s^2}$ darstellen. Dies folgt aus der Formel $F=m*a$.<br>\n",
    "Desweiteren können große Zahlen in Zehner Potenzen umgeschrieben werden. Jede dieser Zehnerpotenzen hat einen Namen und gibt die Vorsilbe für die Einheit. Z.B. $1500 g=1,5*10^{3} g=1,5 kg$.<br>\n",
    "<table style=\"width:50%\">\n",
    "<tr>\n",
    "    <th>Vorsilbe</th>\n",
    "    <th>Kürzel</th>\n",
    "    <th>Potenz</th>\n",
    "</tr> \n",
    "<tr>\n",
    "    <th>Yotta</th>\n",
    "    <th>Y</th>\n",
    "    <th>$10^{24}$</th>\n",
    "</tr>\n",
    "<tr>\n",
    "    <th>Zetta</th>\n",
    "    <th>Z</th>\n",
    "    <th>$10^{21}$</th>\n",
    "</tr>\n",
    "<tr>\n",
    "    <th>Exa</th>\n",
    "    <th>E</th>\n",
    "    <th>$10^{18}$</th>\n",
    "</tr>\n",
    "<tr>\n",
    "    <th>Peta</th>\n",
    "    <th>P</th>\n",
    "    <th>$10^{15}$</th>\n",
    "</tr>\n",
    "<tr>\n",
    "    <th>Tera</th>\n",
    "    <th>T</th>\n",
    "    <th>$10^{12}$</th>\n",
    "</tr>\n",
    "<tr>\n",
    "    <th>Giga</th>\n",
    "    <th>G</th>\n",
    "    <th>$10^{9}$</th>\n",
    "</tr>\n",
    "<tr>\n",
    "    <th>Mega</th>\n",
    "    <th>M</th>\n",
    "    <th>$10^{6}$</th>\n",
    "</tr>\n",
    "<tr>\n",
    "    <th>Kilo</th>\n",
    "    <th>k</th>\n",
    "    <th>$10^{24}$</th>\n",
    "</tr>\n",
    "<tr>\n",
    "    <th>Hecto</th>\n",
    "    <th>h</th>\n",
    "    <th>$10^{2}$</th>\n",
    "</tr>\n",
    "<tr>\n",
    "    <th>Standard</th>\n",
    "    <th></th>\n",
    "    <th>$10^{0}$</th>\n",
    "</tr>\n",
    "<tr>\n",
    "    <th>dezi</th>\n",
    "    <th>d</th>\n",
    "    <th>$10^{-1}$</th>\n",
    "</tr>\n",
    "<tr>\n",
    "    <th>centi</th>\n",
    "    <th>c</th>\n",
    "    <th>$10^{-2}$</th>\n",
    "</tr>\n",
    "<tr>\n",
    "    <th>milli</th>\n",
    "    <th>m</th>\n",
    "    <th>$10^{-3}$</th>\n",
    "</tr>\n",
    "<tr>\n",
    "    <th>mikro</th>\n",
    "    <th>$\\mu$</th>\n",
    "    <th>$10^{-6}$</th>\n",
    "</tr>\n",
    "<tr>\n",
    "    <th>nano</th>\n",
    "    <th>n</th>\n",
    "    <th>$10^{-9}$</th>\n",
    "</tr>\n",
    "<tr>\n",
    "    <th>piko</th>\n",
    "    <th>p</th>\n",
    "    <th>$10^{-12}$</th>\n",
    "</tr>\n",
    "<tr>\n",
    "    <th>femto</th>\n",
    "    <th>f</th>\n",
    "    <th>$10^{-15}$</th>\n",
    "</tr>\n",
    "<tr>\n",
    "    <th>atto</th>\n",
    "    <th>a</th>\n",
    "    <th>$10^{-18}$</th>\n",
    "</tr>\n",
    "<tr>\n",
    "    <th>zepto</th>\n",
    "    <th>z</th>\n",
    "    <th>$10^{-21}$</th>\n",
    "</tr>\n",
    "<tr>\n",
    "    <th>yocto</th>\n",
    "    <th>y</th>\n",
    "    <th>$10^{-24}$</th>\n",
    "</tr>"
   ]
  },
  {
   "cell_type": "markdown",
   "metadata": {},
   "source": [
    "## Knowledge Check(s):\n",
    "<ul>\n",
    "    <li>Überlegen Sie sich anhand der physikalischen Formeln, wie weit man die jeweiligen Einheiten herunterbrechen kann. Kontrollieren Sie anschließend ihre Ergebnisse mit Hilfe der Buttons</li>\n",
    "    <li>Bestimmen Sie die Potenzen, das zugehörige Kürzel und die richtige Einheit dazu! Überprüfen Sie sich mit der Software!</li>\n",
    "    <ol>\n",
    "        <li>1000000 $\\frac{kg*m}{s²}$</li>\n",
    "        <li>1000 $\\frac{kg*m}{s³*A}$</li>\n",
    "        <li>39,139 $\\frac{kg}{s²*m}$</li>\n",
    "        <li>-0,000985 $\\frac{kg*m}{s}$</li>\n",
    "        <li>2045003 $\\frac{kg*m²}{A*s³}$</li>\n",
    "        <li>-3004985 $\\frac{kg*m²}{s³}$</li>\n",
    "        <li>0,000000000005 $\\frac{A*s}{V}$</li>\n",
    "        <li>Versuchen Sie sich selbst und kontrollieren Sie sich selbst, indem Sie die Zahl hier überprüfen</li>\n",
    "    </ol>\n",
    "</ul>"
   ]
  },
  {
   "cell_type": "code",
   "execution_count": 2,
   "metadata": {},
   "outputs": [
    {
     "data": {
      "application/vnd.jupyter.widget-view+json": {
       "model_id": "b0c6df21e53b4831afd5510277bd4412",
       "version_major": 2,
       "version_minor": 0
      },
      "text/plain": [
       "Button(description='[F]=Nm', style=ButtonStyle())"
      ]
     },
     "metadata": {},
     "output_type": "display_data"
    },
    {
     "data": {
      "application/vnd.jupyter.widget-view+json": {
       "model_id": "4ce05b6dcd504d2a8ea80f2b0e902aff",
       "version_major": 2,
       "version_minor": 0
      },
      "text/plain": [
       "Output()"
      ]
     },
     "metadata": {},
     "output_type": "display_data"
    },
    {
     "data": {
      "application/vnd.jupyter.widget-view+json": {
       "model_id": "8f76ff431fd941669230b52b1c0f00c8",
       "version_major": 2,
       "version_minor": 0
      },
      "text/plain": [
       "Button(description='[P]=W', style=ButtonStyle())"
      ]
     },
     "metadata": {},
     "output_type": "display_data"
    },
    {
     "data": {
      "application/vnd.jupyter.widget-view+json": {
       "model_id": "7dc4dbc40415447f858512dfc9ec50bd",
       "version_major": 2,
       "version_minor": 0
      },
      "text/plain": [
       "Output()"
      ]
     },
     "metadata": {},
     "output_type": "display_data"
    },
    {
     "data": {
      "application/vnd.jupyter.widget-view+json": {
       "model_id": "3be7d541c0534250939d6b04a0b57051",
       "version_major": 2,
       "version_minor": 0
      },
      "text/plain": [
       "Button(description='[W]=J', style=ButtonStyle())"
      ]
     },
     "metadata": {},
     "output_type": "display_data"
    },
    {
     "data": {
      "application/vnd.jupyter.widget-view+json": {
       "model_id": "96e24dcd181c44f48b53d95c03dcce68",
       "version_major": 2,
       "version_minor": 0
      },
      "text/plain": [
       "Output()"
      ]
     },
     "metadata": {},
     "output_type": "display_data"
    },
    {
     "data": {
      "application/vnd.jupyter.widget-view+json": {
       "model_id": "6071b780f5694e03b181488729920361",
       "version_major": 2,
       "version_minor": 0
      },
      "text/plain": [
       "Button(description='[R]=Ω', style=ButtonStyle())"
      ]
     },
     "metadata": {},
     "output_type": "display_data"
    },
    {
     "data": {
      "application/vnd.jupyter.widget-view+json": {
       "model_id": "f6acb03a2cad40b68f57cadb38000105",
       "version_major": 2,
       "version_minor": 0
      },
      "text/plain": [
       "Output()"
      ]
     },
     "metadata": {},
     "output_type": "display_data"
    },
    {
     "data": {
      "application/vnd.jupyter.widget-view+json": {
       "model_id": "a483c7516f514cb484b33ae85018e8ed",
       "version_major": 2,
       "version_minor": 0
      },
      "text/plain": [
       "Button(description='[U]=V', style=ButtonStyle())"
      ]
     },
     "metadata": {},
     "output_type": "display_data"
    },
    {
     "data": {
      "application/vnd.jupyter.widget-view+json": {
       "model_id": "36059c56f1bc47559ab1d161bbac1b38",
       "version_major": 2,
       "version_minor": 0
      },
      "text/plain": [
       "Output()"
      ]
     },
     "metadata": {},
     "output_type": "display_data"
    },
    {
     "data": {
      "application/vnd.jupyter.widget-view+json": {
       "model_id": "5e84c054343644dbaa1fa2fdd9341663",
       "version_major": 2,
       "version_minor": 0
      },
      "text/plain": [
       "Button(description='[Q]=C', style=ButtonStyle())"
      ]
     },
     "metadata": {},
     "output_type": "display_data"
    },
    {
     "data": {
      "application/vnd.jupyter.widget-view+json": {
       "model_id": "a0dd9a3bab2d4fd2a79e53073e9c1e4a",
       "version_major": 2,
       "version_minor": 0
      },
      "text/plain": [
       "Output()"
      ]
     },
     "metadata": {},
     "output_type": "display_data"
    },
    {
     "data": {
      "application/vnd.jupyter.widget-view+json": {
       "model_id": "5cb551a77e1c40a08f1139e3b938ccca",
       "version_major": 2,
       "version_minor": 0
      },
      "text/plain": [
       "Button(description='[V]=l', style=ButtonStyle())"
      ]
     },
     "metadata": {},
     "output_type": "display_data"
    },
    {
     "data": {
      "application/vnd.jupyter.widget-view+json": {
       "model_id": "aa20211017464e0491554de77f05fd4f",
       "version_major": 2,
       "version_minor": 0
      },
      "text/plain": [
       "Output()"
      ]
     },
     "metadata": {},
     "output_type": "display_data"
    },
    {
     "data": {
      "application/vnd.jupyter.widget-view+json": {
       "model_id": "c5a17f32149a4e3e8a3f490cb8c59fc7",
       "version_major": 2,
       "version_minor": 0
      },
      "text/plain": [
       "Button(description='[ρ]=Pa', style=ButtonStyle())"
      ]
     },
     "metadata": {},
     "output_type": "display_data"
    },
    {
     "data": {
      "application/vnd.jupyter.widget-view+json": {
       "model_id": "3a8538beeb3d4ad996e2b38bfcfae3a7",
       "version_major": 2,
       "version_minor": 0
      },
      "text/plain": [
       "Output()"
      ]
     },
     "metadata": {},
     "output_type": "display_data"
    },
    {
     "data": {
      "application/vnd.jupyter.widget-view+json": {
       "model_id": "70beffb8c9654204976fea294f6f8969",
       "version_major": 2,
       "version_minor": 0
      },
      "text/plain": [
       "Button(description='[f]=Hz', style=ButtonStyle())"
      ]
     },
     "metadata": {},
     "output_type": "display_data"
    },
    {
     "data": {
      "application/vnd.jupyter.widget-view+json": {
       "model_id": "7df2bed6dd3c4ad4a3da271049363525",
       "version_major": 2,
       "version_minor": 0
      },
      "text/plain": [
       "Output()"
      ]
     },
     "metadata": {},
     "output_type": "display_data"
    },
    {
     "data": {
      "application/vnd.jupyter.widget-view+json": {
       "model_id": "f581c53367bc4970abe3a9f8be99ac90",
       "version_major": 2,
       "version_minor": 0
      },
      "text/plain": [
       "Button(description='[p]=Ns', style=ButtonStyle())"
      ]
     },
     "metadata": {},
     "output_type": "display_data"
    },
    {
     "data": {
      "application/vnd.jupyter.widget-view+json": {
       "model_id": "21ea832f56684fa9857feff4aebbb9d2",
       "version_major": 2,
       "version_minor": 0
      },
      "text/plain": [
       "Output()"
      ]
     },
     "metadata": {},
     "output_type": "display_data"
    },
    {
     "data": {
      "application/vnd.jupyter.widget-view+json": {
       "model_id": "782f2d5d4f72469f93fc75612b3b71a6",
       "version_major": 2,
       "version_minor": 0
      },
      "text/plain": [
       "Button(description='[E]=V/m', style=ButtonStyle())"
      ]
     },
     "metadata": {},
     "output_type": "display_data"
    },
    {
     "data": {
      "application/vnd.jupyter.widget-view+json": {
       "model_id": "a4f4793c5d2b47aebb0918159a6b62fb",
       "version_major": 2,
       "version_minor": 0
      },
      "text/plain": [
       "Output()"
      ]
     },
     "metadata": {},
     "output_type": "display_data"
    },
    {
     "data": {
      "application/vnd.jupyter.widget-view+json": {
       "model_id": "d61780d05c0549408a63725f8456fddd",
       "version_major": 2,
       "version_minor": 0
      },
      "text/plain": [
       "Button(description='[C]=F', style=ButtonStyle())"
      ]
     },
     "metadata": {},
     "output_type": "display_data"
    },
    {
     "data": {
      "application/vnd.jupyter.widget-view+json": {
       "model_id": "fa13fce1c4ce40a98b214cb5931a4daa",
       "version_major": 2,
       "version_minor": 0
      },
      "text/plain": [
       "Output()"
      ]
     },
     "metadata": {},
     "output_type": "display_data"
    }
   ],
   "source": [
    "# Newtonmeter\n",
    "button = widgets.Button(description='[F]=Nm')   # create button\n",
    "out = widgets.Output()                      # create output\n",
    "\n",
    "def clicked(x):                             # connecting function and output\n",
    "    with out:\n",
    "        clear_output()                      # clear output if button is clicked again\n",
    "        display(Markdown('$Nm=kg*m/s²  *m = kg*m²/s²$'))\n",
    "\n",
    "button.on_click(clicked)                    # execute function 'clicked' on click\n",
    "display(button,out)                         # display Button and output\n",
    "\n",
    "#Leistung - Watt\n",
    "button = widgets.Button(description='[P]=W')   # create button\n",
    "out = widgets.Output()                      # create output\n",
    "\n",
    "def clicked(x):                             # connecting function and output\n",
    "    with out:\n",
    "        clear_output()                      # clear output if button is clicked again\n",
    "        display(Markdown('$W=J/s = N*m/s = kg*m²/s³$'))\n",
    "\n",
    "button.on_click(clicked)                    # execute function 'clicked' on click\n",
    "display(button,out)                         # display Button and output\n",
    "\n",
    "#Energie - Joule\n",
    "button = widgets.Button(description='[W]=J')   # create button\n",
    "out = widgets.Output()                      # create output\n",
    "\n",
    "def clicked(x):                             # connecting function and output\n",
    "    with out:\n",
    "        clear_output()                      # clear output if button is clicked again\n",
    "        display(Markdown('$J=N*m = kg*m²/s²$'))\n",
    "\n",
    "button.on_click(clicked)                    # execute function 'clicked' on click\n",
    "display(button,out)                         # display Button and output\n",
    "\n",
    "#Widerstand - Ohm\n",
    "button = widgets.Button(description='[R]=Ω')   # create button\n",
    "out = widgets.Output()                      # create output\n",
    "\n",
    "def clicked(x):                             # connecting function and output\n",
    "    with out:\n",
    "        clear_output()                      # clear output if button is clicked again\n",
    "        display(Markdown('$Ω=V/A=kg*m²/A²*s³$'))\n",
    "\n",
    "button.on_click(clicked)                    # execute function 'clicked' on click\n",
    "display(button,out)                         # display Button and output\n",
    "\n",
    "#Spannung - Volt\n",
    "button = widgets.Button(description='[U]=V')   # create button\n",
    "out = widgets.Output()                      # create output\n",
    "\n",
    "def clicked(x):                             # connecting function and output\n",
    "    with out:\n",
    "        clear_output()                      # clear output if button is clicked again\n",
    "        display(Markdown('$V= N*m/A*s = kg*m²/A*s³$'))\n",
    "\n",
    "button.on_click(clicked)                    # execute function 'clicked' on click\n",
    "display(button,out)                         # display Button and output\n",
    "\n",
    "#elektr. Ladung - Coulomb\n",
    "button = widgets.Button(description='[Q]=C')   # create button\n",
    "out = widgets.Output()                      # create output\n",
    "\n",
    "def clicked(x):                             # connecting function and output\n",
    "    with out:\n",
    "        clear_output()                      # clear output if button is clicked again\n",
    "        display(Markdown('$C=A*s$'))\n",
    "\n",
    "button.on_click(clicked)                    # execute function 'clicked' on click\n",
    "display(button,out)                         # display Button and output\n",
    "\n",
    "#Volumen - l\n",
    "button = widgets.Button(description='[V]=l')   # create button\n",
    "out = widgets.Output()                      # create output\n",
    "\n",
    "def clicked(x):                             # connecting function and output\n",
    "    with out:\n",
    "        clear_output()                      # clear output if button is clicked again\n",
    "        display(Markdown('$l=10^-³*m³$'))\n",
    "\n",
    "button.on_click(clicked)                    # execute function 'clicked' on click\n",
    "display(button,out)                         # display Button and output\n",
    "\n",
    "#Druck - Pa\n",
    "button = widgets.Button(description='[ρ]=Pa')   # create button\n",
    "out = widgets.Output()                      # create output\n",
    "\n",
    "def clicked(x):                             # connecting function and output\n",
    "    with out:\n",
    "        clear_output()                      # clear output if button is clicked again\n",
    "        display(Markdown('$Pa=N/m^²=kg/s²*m$'))\n",
    "\n",
    "button.on_click(clicked)                    # execute function 'clicked' on click\n",
    "display(button,out)                         # display Button and output\n",
    "\n",
    "#Frequenz - Hz\n",
    "button = widgets.Button(description='[f]=Hz')   # create button\n",
    "out = widgets.Output()                      # create output\n",
    "\n",
    "def clicked(x):                             # connecting function and output\n",
    "    with out:\n",
    "        clear_output()                      # clear output if button is clicked again\n",
    "        display(Markdown('$Hz=1/s$'))\n",
    "\n",
    "button.on_click(clicked)                    # execute function 'clicked' on click\n",
    "display(button,out)                         # display Button and output\n",
    "\n",
    "#Impuls - Ns\n",
    "button = widgets.Button(description='[p]=Ns')   # create button\n",
    "out = widgets.Output()                      # create output\n",
    "\n",
    "def clicked(x):                             # connecting function and output\n",
    "    with out:\n",
    "        clear_output()                      # clear output if button is clicked again\n",
    "        display(Markdown('$Ns=kg*m/s$'))\n",
    "\n",
    "button.on_click(clicked)                    # execute function 'clicked' on click\n",
    "display(button,out)                         # display Button and output\n",
    "\n",
    "#Elektrische Feldstärke - V/m\n",
    "button = widgets.Button(description='[E]=V/m')   # create button\n",
    "out = widgets.Output()                      # create output\n",
    "\n",
    "def clicked(x):                             # connecting function and output\n",
    "    with out:\n",
    "        clear_output()                      # clear output if button is clicked again\n",
    "        display(Markdown('$V/m=N/C=kg*m/s³*A$'))\n",
    "\n",
    "button.on_click(clicked)                    # execute function 'clicked' on click\n",
    "display(button,out)                         # display Button and output\n",
    "\n",
    "#Kapazität - F\n",
    "button = widgets.Button(description='[C]=F')   # create button\n",
    "out = widgets.Output()                      # create output\n",
    "\n",
    "def clicked(x):                             # connecting function and output\n",
    "    with out:\n",
    "        clear_output()                      # clear output if button is clicked again\n",
    "        display(Markdown('$F=A*s/V$'))\n",
    "\n",
    "button.on_click(clicked)                    # execute function 'clicked' on click\n",
    "display(button,out)                         # display Button and output"
   ]
  },
  {
   "cell_type": "code",
   "execution_count": 3,
   "metadata": {},
   "outputs": [
    {
     "data": {
      "application/vnd.jupyter.widget-view+json": {
       "model_id": "2e2a7447e9244e80a69c607d35c90646",
       "version_major": 2,
       "version_minor": 0
      },
      "text/plain": [
       "FloatText(value=7.5, description='Zahl:')"
      ]
     },
     "metadata": {},
     "output_type": "display_data"
    },
    {
     "data": {
      "application/vnd.jupyter.widget-view+json": {
       "model_id": "3f2a382c168d4bb8864bd606570b1a36",
       "version_major": 2,
       "version_minor": 0
      },
      "text/plain": [
       "Output()"
      ]
     },
     "metadata": {},
     "output_type": "display_data"
    }
   ],
   "source": [
    "import ipywidgets as widgets\n",
    "\n",
    "# Power converter\n",
    "eingabe = widgets.FloatText(\n",
    "    value=7.5,\n",
    "    description='Zahl:',\n",
    "    disabled=False\n",
    ")\n",
    "output = widgets.Output()\n",
    "\n",
    "display(eingabe, output)\n",
    "\n",
    "def number(b):\n",
    "    with output:\n",
    "        clear_output()\n",
    "        nbr_int = eingabe.value\n",
    "       \n",
    "\n",
    "        #search power for integer or float\n",
    "        if nbr_int == 0:\n",
    "            display(Markdown('$0$'))\n",
    "        elif nbr_int >= 1 or nbr_int <= -1:\n",
    "            if nbr_int < 100 and nbr_int >= 1 or nbr_int <= -1 and nbr_int > -100:\n",
    "                display(Markdown(f'{nbr_int}'))\n",
    "            elif nbr_int >= 100 and nbr_int < 10**3 or nbr_int <= -100 and nbr_int > -10**3:\n",
    "                nbr_int = nbr_int /10**2\n",
    "                display(Markdown(f'{nbr_int} $ * 10^2$'))\n",
    "            elif nbr_int >= 1000 and nbr_int < 10**4 or nbr_int <= -10**3 and nbr_int > -10**4:\n",
    "                nbr_int = nbr_int /10**3\n",
    "                display(Markdown(f'{nbr_int}$*10^3$'))\n",
    "            elif nbr_int >= 10000 and nbr_int < 10**5 or nbr_int <= -10**4 and nbr_int > -10**5:\n",
    "                nbr_int = nbr_int /10**3\n",
    "                display(Markdown(f'{nbr_int}$*10^3$'))\n",
    "            elif nbr_int >= 100000 and nbr_int < 10**6 or nbr_int <= -10**5 and nbr_int > -10**6:\n",
    "                nbr_int = nbr_int /10**3\n",
    "                display(Markdown(f'{nbr_int}$*10^3$'))\n",
    "            elif nbr_int >= 1000000 and nbr_int < 10**7 or nbr_int <= -10**6 and nbr_int > -10**7:\n",
    "                nbr_int = nbr_int /10**6\n",
    "                display(Markdown(f'{nbr_int}$*10^6$'))\n",
    "            elif nbr_int >= 10**7 and nbr_int < 10**8 or nbr_int <= -10**7 and nbr_int > -10**8:\n",
    "                nbr_int = nbr_int /10**6\n",
    "                display(Markdown(f'{nbr_int}$*10^6$'))\n",
    "            elif nbr_int >= 10**8 and nbr_int < 1*10**9 or nbr_int <= -10**8 and nbr_int > -10**9:\n",
    "                nbr_int = nbr_int /10**6\n",
    "                display(Markdown(f'{nbr_int}$*10^6$'))\n",
    "            elif nbr_int >= 1*10**9 and nbr_int < 1*10**10 or nbr_int <= -10**9 and nbr_int > -10**10:\n",
    "                nbr_int = nbr_int /10**9\n",
    "                display(Markdown(f'{nbr_int}$*10^9$'))\n",
    "            elif nbr_int >= 1*10**10 and nbr_int < 1*10**11 or nbr_int <= -10**10 and nbr_int > -10**11:\n",
    "                nbr_int = nbr_int /10**9\n",
    "                display(Markdown(f'{nbr_int}$*10^9$'))\n",
    "            elif nbr_int >= 1*10**11 and nbr_int < 1*10**12 or nbr_int <= -10**11 and nbr_int > -10**12:\n",
    "                nbr_int = nbr_int /10**9\n",
    "                display(Markdown(f'{nbr_int}$*10^9$'))\n",
    "            elif nbr_int >= 1*10**12 and nbr_int < 1*10**13 or nbr_int <= -10**12 and nbr_int > -10**13:\n",
    "                nbr_int = nbr_int /10**12\n",
    "                display(Markdown(f'{nbr_int}$*10^(12)$'))\n",
    "            elif nbr_int >= 1*10**13 and nbr_int < 1*10**14 or nbr_int <= -10**13 and nbr_int > -10**14:\n",
    "                nbr_int = nbr_int /10**12\n",
    "                display(Markdown(f'{nbr_int}$*10^(12)$'))\n",
    "            elif nbr_int >= 1*10**14 and nbr_int < 1*10**15 or nbr_int <= -10**14 and nbr_int > -10**15:\n",
    "                nbr_int = nbr_int /10**12\n",
    "                display(Markdown(f'{nbr_int}$*10^(12)$'))\n",
    "            elif nbr_int >= 1*10**15 and nbr_int < 1*10**16 or nbr_int <= -10**15 and nbr_int > -10**16:\n",
    "                nbr_int = nbr_int /10**15\n",
    "                display(Markdown(f'{nbr_int}$*10^(15)$'))\n",
    "            elif nbr_int >= 1*10**16 and nbr_int < 1*10**17 or nbr_int <= -10**16 and nbr_int > -10**17:\n",
    "                nbr_int = nbr_int /10**15\n",
    "                display(Markdown(f'{nbr_int}$*10^(15)$'))\n",
    "            elif nbr_int >= 1*10**17 and nbr_int < 1*10**18 or nbr_int <= -10**17 and nbr_int > -10**18:\n",
    "                nbr_int = nbr_int /10**15\n",
    "                display(Markdown(f'{nbr_int}$*10^(15)$'))\n",
    "            elif nbr_int >= 1*10**18 and nbr_int < 1*10**19 or nbr_int <= -10**18 and nbr_int > -10**19:\n",
    "                nbr_int = nbr_int /10**18\n",
    "                display(Markdown(f'{nbr_int}$*10^(18)$'))\n",
    "            elif nbr_int >= 1*10**19 and nbr_int < 1*10**20 or nbr_int <= -10**19 and nbr_int > -10**20:\n",
    "                nbr_int = nbr_int /10**18\n",
    "                display(Markdown(f'{nbr_int}$*10^(18)$'))\n",
    "            elif nbr_int >= 1*10**20 and nbr_int < 1*10**21 or nbr_int <= -10**20 and nbr_int > -10**21:\n",
    "                nbr_int = nbr_int /10**18\n",
    "                display(Markdown(f'{nbr_int}$*10^(18)$'))\n",
    "            elif nbr_int >= 1*10**21 and nbr_int < 1*10**22 or nbr_int <= -10**21 and nbr_int > -10**22:\n",
    "                nbr_int = nbr_int /10**21\n",
    "                display(Markdown(f'{nbr_int}$*10^(21)$'))\n",
    "            elif nbr_int >= 1*10**22 and nbr_int < 1*10**23 or nbr_int <= -10**22 and nbr_int > -10**23:\n",
    "                nbr_int = nbr_int /10**21\n",
    "                display(Markdown(f'{nbr_int}$*10^(21)$'))\n",
    "            elif nbr_int >= 1*10**23 and nbr_int < 1*10**24 or nbr_int <= -10**23 and nbr_int > -10**24:\n",
    "                nbr_int = nbr_int /10**21\n",
    "                display(Markdown(f'{nbr_int}$*10^(21)$'))\n",
    "            elif nbr_int >= 1*10**24 and nbr_int < 1*10**25 or nbr_int <= -10**24 and nbr_int > -10**25:\n",
    "                nbr_int = nbr_int /10**24\n",
    "                display(Markdown(f'{nbr_int}$*10^(24)$'))\n",
    "            elif nbr_int >= 1*10**25 and nbr_int < 1*10**26 or nbr_int <= -10**25 and nbr_int > -10**26:\n",
    "                nbr_int = nbr_int /10**24\n",
    "                display(Markdown(f'{nbr_int}$*10^(24)$'))\n",
    "            elif nbr_int >= 1*10**26 and nbr_int < 1*10**27 or nbr_int <= -10**26 and nbr_int > -10**27:\n",
    "                nbr_int = nbr_int /10**24\n",
    "                display(Markdown(f'{nbr_int}$*10^(24)$'))\n",
    "            else:\n",
    "                display(Markdown('Nummer zu groß! Maximale Zahlen bis $9.9999*10^27$'))\n",
    "        elif nbr_int > 0 and nbr_int < 1 or nbr_int < 0 and nbr_int > -1:\n",
    "            if nbr_int < 1 and nbr_int >= 10**-2 or nbr_int > -1 and nbr_int <= -10**-2:\n",
    "                display(Markdown(f'{nbr_int}'))\n",
    "            elif nbr_int < 10**-2 and nbr_int >= 1*10**-3 or nbr_int >= -10**-2 and nbr_int < -10**-3:\n",
    "                nbr_int = nbr_int * 10**3\n",
    "                display(Markdown(f'{nbr_int}$*10^-3$'))\n",
    "            elif nbr_int < 10**-3 and nbr_int >= 1*10**-4 or nbr_int >= -10**-3 and nbr_int < -10**-4:\n",
    "                nbr_int = nbr_int * 10**3\n",
    "                display(Markdown(f'{nbr_int}$*10^-3$'))\n",
    "            elif nbr_int < 10**-4 and nbr_int >= 1*10**-5 or nbr_int >= -10**-4 and nbr_int < -10**-5:\n",
    "                nbr_int = nbr_int * 10**3\n",
    "                display(Markdown(f'{nbr_int}$*10^-3$'))\n",
    "            elif nbr_int < 10**-5 and nbr_int >= 1*10**-6 or nbr_int >= -10**-5 and nbr_int < -10**-6:\n",
    "                nbr_int = nbr_int * 10**6\n",
    "                display(Markdown(f'{nbr_int}$*10^-6$'))\n",
    "            elif nbr_int < 10**-6 and nbr_int >= 1*10**-7 or nbr_int >= -10**-6 and nbr_int < -10**-7:\n",
    "                nbr_int = nbr_int * 10**6\n",
    "                display(Markdown(f'{nbr_int}$*10^-6$'))\n",
    "            elif nbr_int < 10**-7 and nbr_int >= 1*10**-8 or nbr_int >= -10**-7 and nbr_int < -10**-8:\n",
    "                nbr_int = nbr_int * 10**6\n",
    "                display(Markdown(f'{nbr_int}$*10^-6$'))\n",
    "            elif nbr_int < 1*10**-8 and nbr_int >= 1*10**-9 or nbr_int >= -10**-8 and nbr_int < -10**-9:\n",
    "                nbr_int = nbr_int * 10**9\n",
    "                display(Markdown(f'{nbr_int}$*10^-9$'))\n",
    "            elif nbr_int < 1*10**-9 and nbr_int >= 1*10**-10 or nbr_int >= -10**-9 and nbr_int < -10**-10:\n",
    "                nbr_int = nbr_int * 10**9\n",
    "                display(Markdown(f'{nbr_int}$*10^-9$'))\n",
    "            elif nbr_int < 1*10**-10 and nbr_int >= 1*10**-11 or nbr_int >= -10**-10 and nbr_int < -10**-11:\n",
    "                nbr_int = nbr_int *10**9\n",
    "                display(Markdown(f'{nbr_int}$*10^-9$'))\n",
    "            elif nbr_int < 1*10**-11 and nbr_int >= 1*10**-12 or nbr_int >= -10**-11 and nbr_int < -10**-12:\n",
    "                nbr_int = nbr_int *10**12\n",
    "                display(Markdown(f'{nbr_int}$*10^-(12)$'))\n",
    "            elif nbr_int < 1*10**-12 and nbr_int >= 1*10**-13 or nbr_int >= -10**-12 and nbr_int < -10**-13:\n",
    "                nbr_int = nbr_int *10**12\n",
    "                display(Markdown(f'{nbr_int}$*10^-(12)$'))\n",
    "            elif nbr_int < 1*10**-13 and nbr_int >= 1*10**-14 or nbr_int >= -10**-13 and nbr_int < -10**-14:\n",
    "                nbr_int = nbr_int *10**12\n",
    "                display(Markdown(f'{nbr_int}$*10^-(12)$'))\n",
    "            elif nbr_int < 1*10**-14 and nbr_int >= 1*10**-15 or nbr_int >= -10**-14 and nbr_int < -10**-15:\n",
    "                nbr_int = nbr_int *10**15\n",
    "                display(Markdown(f'{nbr_int}$*10^-(15)$'))\n",
    "            elif nbr_int < 1*10**-15 and nbr_int >= 1*10**-16 or nbr_int >= -10**-15 and nbr_int < -10**-16:\n",
    "                nbr_int = nbr_int *10**15\n",
    "                display(Markdown(f'{nbr_int}$*10^-(15)$'))\n",
    "            elif nbr_int < 1*10**-16 and nbr_int >= 1*10**-17 or nbr_int >= -10**-16 and nbr_int < -10**-17:\n",
    "                nbr_int = nbr_int *10**15\n",
    "                display(Markdown(f'{nbr_int}$*10^-(15)$'))\n",
    "            elif nbr_int < 1*10**-17 and nbr_int >= 1*10**-18 or nbr_int >= -10**-17 and nbr_int < -10**-18:\n",
    "                nbr_int = nbr_int *10**18\n",
    "                display(Markdown(f'{nbr_int}$*10^-(18)$'))\n",
    "            elif nbr_int < 1*10**-18 and nbr_int >= 1*10**-19 or nbr_int >= -10**-18 and nbr_int < -10**-19:\n",
    "                nbr_int = nbr_int *10**18\n",
    "                display(Markdown(f'{nbr_int}$*10^-(18)$'))\n",
    "            elif nbr_int < 1*10**-19 and nbr_int >= 1*10**-20 or nbr_int >= -10**-19 and nbr_int < -10**-20:\n",
    "                nbr_int = nbr_int *10**18\n",
    "                display(Markdown(f'{nbr_int}$*10^-(18)$'))\n",
    "            elif nbr_int < 1*10**-20 and nbr_int >= 1*10**-21 or nbr_int >= -10**-20 and nbr_int < -10**-21:\n",
    "                nbr_int = nbr_int *10**21\n",
    "                display(Markdown(f'{nbr_int}$*10^-(21)$'))\n",
    "            elif nbr_int < 1*10**-21 and nbr_int >= 1*10**-22 or nbr_int >= -10**-21 and nbr_int < -10**-22:\n",
    "                nbr_int = nbr_int *10**21\n",
    "                display(Markdown(f'{nbr_int}$*10^-(21)$'))\n",
    "            elif nbr_int < 1*10**-22 and nbr_int >= 1*10**-23 or nbr_int >= -10**-22 and nbr_int < -10**-23:\n",
    "                nbr_int = nbr_int *10**21\n",
    "                display(Markdown(f'{nbr_int}$*10^-(21)$'))\n",
    "            elif nbr_int < 1*10**-23 and nbr_int >= 1*10**-24 or nbr_int >= -10**-23 and nbr_int < -10**-24:\n",
    "                nbr_int = nbr_int *10**24\n",
    "                display(Markdown(f'{nbr_int}$*10^-(24)$'))\n",
    "            elif nbr_int < 1*10**-24 and nbr_int >= 1*10**-25 or nbr_int >= -10**-24 and nbr_int < -10**-25:\n",
    "                nbr_int = nbr_int *10**24\n",
    "                display(Markdown(f'{nbr_int}$*10^-(24)$'))\n",
    "            elif nbr_int < 1*10**-25 and nbr_int >= 1*10**-26 or nbr_int >= -10**-25 and nbr_int < -10**-26:\n",
    "                nbr_int = nbr_int *10**24\n",
    "                display(Markdown(f'{nbr_int}$*10^-(24)$'))\n",
    "            else:\n",
    "                display(Markdown('Nummer zu klein! Minimale Zahlen bis $9.9999*10^-27$'))\n",
    "        else:\n",
    "            display(Markdown('Die Zahl konnte nicht erkannt werden! (Lassen Sie die Einheit weg)'))\n",
    "\n",
    "\n",
    "eingabe.observe(number,\"value\")\n"
   ]
  },
  {
   "cell_type": "markdown",
   "metadata": {},
   "source": [
    "## Danksagung\n",
    "\n",
    "Dieses digitale Lehr-/Lernmaterial wurde im Rahmen des Programms Fellowships für Innovationen in der digitalen Hochschullehre des Ministeriums für Kultur und Wissenschaft des Landes Nordrhein-Westfalen und des Stifterverbandes entwickelt. Es steht als Open Educational Ressources unter der Lizenz [Creative Commons Attribution-ShareAlike 4.0 International License (CC BY-SA 4.0)](https://creativecommons.org/licenses/by-sa/4.0/) zur Verfügung.<br>\n",
    "<img align=\"left\\\" src=\"https://licensebuttons.net/l/by-sa/3.0/88x31.png\\\">"
   ]
  },
  {
   "cell_type": "code",
   "execution_count": null,
   "metadata": {},
   "outputs": [],
   "source": []
  }
 ],
 "metadata": {
  "kernelspec": {
   "display_name": "Python 3",
   "language": "python",
   "name": "python3"
  },
  "language_info": {
   "codemirror_mode": {
    "name": "ipython",
    "version": 3
   },
   "file_extension": ".py",
   "mimetype": "text/x-python",
   "name": "python",
   "nbconvert_exporter": "python",
   "pygments_lexer": "ipython3",
   "version": "3.7.6"
  }
 },
 "nbformat": 4,
 "nbformat_minor": 4
}
