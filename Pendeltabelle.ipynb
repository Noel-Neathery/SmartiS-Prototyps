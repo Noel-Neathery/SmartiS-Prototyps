{
 "cells": [
  {
   "cell_type": "markdown",
   "metadata": {},
   "source": [
    "# Smarte und interaktive Kurzskripte (smartiS)\n",
    "___\n",
    "## 1. Pendel"
   ]
  },
  {
   "cell_type": "code",
   "execution_count": 1,
   "metadata": {},
   "outputs": [],
   "source": [
    "#____import____\n",
    "\n",
    "%matplotlib inline\n",
    "\n",
    "import numpy as np\n",
    "import matplotlib.pyplot as plt\n",
    "import ipywidgets as widgets\n",
    "import matplotlib.animation as animation\n",
    "\n",
    "from ipywidgets import interact\n",
    "from IPython.display import Markdown, clear_output, display, HTML\n",
    "from sympy import symbols\n",
    "from matplotlib.pyplot import figure"
   ]
  },
  {
   "cell_type": "code",
   "execution_count": 2,
   "metadata": {},
   "outputs": [
    {
     "data": {
      "text/html": [
       "<script>$(\"div.input\").hide()</script>"
      ],
      "text/plain": [
       "<IPython.core.display.HTML object>"
      ]
     },
     "metadata": {},
     "output_type": "display_data"
    },
    {
     "data": {
      "application/vnd.jupyter.widget-view+json": {
       "model_id": "3acd10a0d51f4f3f9aee6041514000fc",
       "version_major": 2,
       "version_minor": 0
      },
      "text/plain": [
       "ToggleButton(value=False, description='Quellcode anzeigen')"
      ]
     },
     "metadata": {},
     "output_type": "display_data"
    },
    {
     "data": {
      "text/html": [
       "<script>$(\"div.input\").show()</script>"
      ],
      "text/plain": [
       "<IPython.core.display.HTML object>"
      ]
     },
     "metadata": {},
     "output_type": "display_data"
    },
    {
     "data": {
      "text/html": [
       "<script>$(\"div.input\").hide()</script>"
      ],
      "text/plain": [
       "<IPython.core.display.HTML object>"
      ]
     },
     "metadata": {},
     "output_type": "display_data"
    },
    {
     "data": {
      "text/html": [
       "<script>$(\"div.input\").show()</script>"
      ],
      "text/plain": [
       "<IPython.core.display.HTML object>"
      ]
     },
     "metadata": {},
     "output_type": "display_data"
    }
   ],
   "source": [
    "javascript_funktion = {False: \"hide()\", True: \"show()\"}\n",
    "schaltflaeche  = {False: \"Quellcode anzeigen\", True: \"Quellcode verbergen\"}\n",
    "\n",
    "\n",
    "def quellcode_umschalten(state):\n",
    "\n",
    "    output_string = \"<script>$(\\\"div.input\\\").{}</script>\"\n",
    "    output_args   = (javascript_funktion[state],)\n",
    "    output        = output_string.format(*output_args)\n",
    "    display(HTML(output))\n",
    "\n",
    "\n",
    "def schaltflaeche_aktion(value):\n",
    "\n",
    "    state = value.new\n",
    "    quellcode_umschalten(state)\n",
    "    value.owner.description = schaltflaeche[state]\n",
    "\n",
    "\n",
    "state = False\n",
    "quellcode_umschalten(state)\n",
    "\n",
    "button = widgets.ToggleButton(state, description = schaltflaeche[state])\n",
    "button.observe(schaltflaeche_aktion, \"value\")\n",
    "\n",
    "display(button)"
   ]
  },
  {
   "cell_type": "markdown",
   "metadata": {},
   "source": [
    "## Beispiel - Das mathematische Pendel:<br>\n",
    "Ein Pendel besteht im einfachsten Fall aus einem Körper mit der Masse $m$, der an einem Faden der Länge $l$ hängt. Das mathematische Pendel ist ein Idealisierung, bei dem der Pendelkörper als Punktmasse und der Faden als masselosbetrachtet wird.<br>\n",
    "Ermitteln Sie mit Hilfe der Dimensionsanalyse die Schwingungsdauer $T$ als Funktion der identifizierten Einflussgrößen. Gehen Sie zunächst davon aus, dass die Schwingungsdauer $T$ von der Masse $m$, der Fadenlänge $l$ und der Erdbeschleunigung $g$ abhängt.<br>\n",
    "\n",
    "## Knowledge Check(s):\n",
    "<ol>\n",
    "    <li>Planen Sie Ihren Versuch zur Verifizierung der von Ihnen aus der Dimensionsanalyse ermittelten Formel, planen Sie<br>\n",
    "        - die Anzahl der Versuche, den Aufbau der Wertetabelle, ...</li>\n",
    "    <li>Führen Sie den Versuch durch. *Tipp: Um den Messfehler bei $T$ zu minimieren, messe z.B. 10 volle Schwingungen</li>\n",
    "    <li>Werten Sie den Versuch aus und überprüfen Sie, ob sich der aus der Dimensionsanalyse ermittelte Zusammenhang bestätigen lässt.</li>\n",
    "    <li>Geben Sie eine Formel zur Berechnung der Schwingungsdauer $T$ an.</li>\n",
    "</ol>"
   ]
  },
  {
   "cell_type": "code",
   "execution_count": 4,
   "metadata": {},
   "outputs": [
    {
     "data": {
      "text/markdown": [
       "**Schwingungsdauer:**"
      ],
      "text/plain": [
       "<IPython.core.display.Markdown object>"
      ]
     },
     "metadata": {},
     "output_type": "display_data"
    },
    {
     "name": "stdout",
     "output_type": "stream",
     "text": [
      "Anzahl der Werte: 1\n"
     ]
    },
    {
     "data": {
      "text/markdown": [
       "**Messung 1**"
      ],
      "text/plain": [
       "<IPython.core.display.Markdown object>"
      ]
     },
     "metadata": {},
     "output_type": "display_data"
    },
    {
     "name": "stdout",
     "output_type": "stream",
     "text": [
      "1. Wert für T: 1\n",
      "Zum 1. Wert für T dazugehöriges l: 1\n"
     ]
    },
    {
     "name": "stderr",
     "output_type": "stream",
     "text": [
      "C:\\Users\\Noel Neathery\\anaconda3\\lib\\site-packages\\IPython\\core\\interactiveshell.py:3331: RankWarning: Polyfit may be poorly conditioned\n",
      "  exec(code_obj, self.user_global_ns, self.user_ns)\n"
     ]
    },
    {
     "data": {
      "image/png": "[encoded data removed]",
      "text/plain": [
       "<Figure size 432x288 with 1 Axes>"
      ]
     },
     "metadata": {
      "needs_background": "light"
     },
     "output_type": "display_data"
    }
   ],
   "source": [
    "#variables/set up\n",
    "display(Markdown('**Schwingungsdauer:**'))\n",
    "n = int(input('Anzahl der Werte: '))\n",
    "g = 9.81\n",
    "values_T = np.zeros(n)\n",
    "values_l = np.zeros(n)\n",
    "values_m = np.zeros(n)\n",
    "\n",
    "#Input values\n",
    "for i in range (n):\n",
    "    if i == 0:\n",
    "        display(Markdown('**Messung 1**'))\n",
    "        try:\n",
    "            values_T[0] = float(input(f'{i+1}. Wert für T: '))\n",
    "            values_l[0] = float(input(f'Zum {i+1}. Wert für T dazugehöriges l: '))\n",
    "            '''values_m[0] = float(input(f'Zum {i+1}. Wert für T dazugehöriges m: '))'''\n",
    "        except:\n",
    "            values_T[0] = int(input(f'{i+1}. Wert für T: '))\n",
    "            values_l[0] = int(input(f'Zum {i+1}. Wert für T dazugehöriges l: '))\n",
    "            '''values_m[0] = int(input(f'Zum {i+1}. Wert für T dazugehöriges m: '))'''\n",
    "    else:\n",
    "        display(Markdown(f'**Messung {i+1}**'))\n",
    "        try:\n",
    "            values_T[i] = float(input(f'{i+1}. Wert für T: '))\n",
    "            values_l[i] = float(input(f'Zum {i+1}. Wert für T dazugehöriges l: '))\n",
    "            '''values_m[i] = float(input(f'Zum {i+1}. Wert für T dazugehöriges m: '))'''\n",
    "        except:\n",
    "            values_T[i] = int(input(f'{i+1}. Wert für T: '))\n",
    "            values_l[i] = int(input(f'Zum {i+1}. Wert für T dazugehöriges l: '))\n",
    "            '''values_m[i] = int(input(f'Zum {i+1}. Wert für T dazugehöriges m: '))'''\n",
    "            \n",
    "#regression line\n",
    "coef = np.polyfit(values_l,values_T,1)\n",
    "poly = np.poly1d(coef)\n",
    "\n",
    "#plotting\n",
    "plt.plot(values_l,values_T,'yo', values_l, poly(values_l), '--k')\n",
    "plt.plot(values_l,values_T,'b',lw=0.5)\n",
    "plt.xlim(0, max(values_l)+0.5)\n",
    "plt.ylim(0, max(values_T)+0.5)\n",
    "plt.xlabel('Länge des Pendels l/m')\n",
    "plt.ylabel('Schwingungsdauer T/s')\n",
    "plt.title('PENDEL')\n",
    "plt.grid()\n",
    "plt.show()"
   ]
  },
  {
   "cell_type": "markdown",
   "metadata": {},
   "source": [
    "## Danksagung\n",
    "\n",
    "Dieses digitale Lehr-/Lernmaterial wurde im Rahmen des Programms Fellowships für Innovationen in der digitalen Hochschullehre des Ministeriums für Kultur und Wissenschaft des Landes Nordrhein-Westfalen und des Stifterverbandes entwickelt. Es steht als Open Educational Ressources unter der Lizenz [Creative Commons Attribution-ShareAlike 4.0 International License (CC BY-SA 4.0)](https://creativecommons.org/licenses/by-sa/4.0/) zur Verfügung.<br>\n",
    "<img align=\"left\\\" src=\"https://licensebuttons.net/l/by-sa/3.0/88x31.png\\\">"
   ]
  }
 ],
 "metadata": {
  "kernelspec": {
   "display_name": "Python 3",
   "language": "python",
   "name": "python3"
  },
  "language_info": {
   "codemirror_mode": {
    "name": "ipython",
    "version": 3
   },
   "file_extension": ".py",
   "mimetype": "text/x-python",
   "name": "python",
   "nbconvert_exporter": "python",
   "pygments_lexer": "ipython3",
   "version": "3.7.6"
  }
 },
 "nbformat": 4,
 "nbformat_minor": 4
}
